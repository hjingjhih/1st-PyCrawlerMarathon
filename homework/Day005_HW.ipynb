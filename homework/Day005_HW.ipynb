{
 "cells": [
  {
   "cell_type": "markdown",
   "metadata": {},
   "source": [
    "# API 資料串接 - 以 Dcard API 實作範例\n",
    "\n",
    "* 了解 Dcard API 使用方式與回傳內容\n",
    "* 撰寫程式存取 API 且解析 JSON 格式資料\n"
   ]
  },
  {
   "cell_type": "markdown",
   "metadata": {},
   "source": [
    "## 作業目標\n",
    "\n",
    "* 請利用 API: https://www.dcard.tw/_api/forums/pet/posts?popular=true 回答下列問題：\n",
    "\n",
    "1. 這個 API 一次會回傳幾筆資料？每一筆資料包含哪些欄位？\n",
    "2. 取出每一筆資料的「標題」、「貼文時間」、「留言人數」、「按讚人數」\n",
    "3. 計算熱門/非熱門文章的「平均留言人數」與「平均按讚人數」"
   ]
  },
  {
   "cell_type": "code",
   "execution_count": 24,
   "metadata": {},
   "outputs": [
    {
     "name": "stdout",
     "output_type": "stream",
     "text": [
      "30\n",
      "dict_keys(['id', 'title', 'excerpt', 'anonymousSchool', 'anonymousDepartment', 'pinned', 'forumId', 'replyId', 'createdAt', 'updatedAt', 'commentCount', 'likeCount', 'withNickname', 'tags', 'topics', 'meta', 'forumName', 'forumAlias', 'gender', 'school', 'department', 'replyTitle', 'mediaMeta', 'reactions', 'hidden', 'customStyle', 'isSuspiciousAccount', 'layout', 'withImages', 'withVideos', 'media', 'reportReasonText', 'postAvatar'])\n"
     ]
    }
   ],
   "source": [
    "# 1. 這個 API 一次會回傳幾筆資料？每一筆資料包含哪些欄位？\n",
    "\n",
    "import requests\n",
    "import json\n",
    "r = requests.get('https://www.dcard.tw/_api/forums/pet/posts?popular=true')\n",
    "response = r.text\n",
    "data = json.loads(response)\n",
    "print(len(data))\n",
    "print(data[0].keys())"
   ]
  },
  {
   "cell_type": "code",
   "execution_count": 27,
   "metadata": {},
   "outputs": [
    {
     "name": "stdout",
     "output_type": "stream",
     "text": [
      "自己的玩具自己收\n",
      "2019-12-13T07:29:01.856Z\n",
      "39\n",
      "1318\n",
      "\n",
      "霸氣貓出巡啦😼😼\n",
      "2019-12-13T03:35:45.932Z\n",
      "9\n",
      "355\n",
      "\n",
      "⭐️養一隻緬因貓是什麼感覺⭐️\n",
      "2019-12-13T08:26:49.371Z\n",
      "6\n",
      "289\n",
      "\n",
      "橘貓控請進~\n",
      "2019-12-13T08:50:29.624Z\n",
      "17\n",
      "193\n",
      "\n",
      "我的原則很簡單，有貓就是買爆\n",
      "2019-12-13T10:28:23.680Z\n",
      "20\n",
      "112\n",
      "\n",
      "18歲雪納瑞還有多少明天\n",
      "2019-12-13T18:28:25.842Z\n",
      "6\n",
      "108\n",
      "\n",
      "大哥你的倉鼠交出來！！\n",
      "2019-12-13T09:07:00.561Z\n",
      "0\n",
      "86\n",
      "\n",
      "他養了六年但我養八年了\n",
      "2019-12-13T13:39:09.131Z\n",
      "5\n",
      "59\n",
      "\n",
      "脖子？\n",
      "2019-12-13T09:40:15.330Z\n",
      "6\n",
      "45\n",
      "\n",
      "分享：貓瘟5日療程\n",
      "2019-12-13T07:36:00.733Z\n",
      "0\n",
      "38\n",
      "\n",
      "台中南區 狗 協尋\n",
      "2019-12-14T08:40:14.301Z\n",
      "2\n",
      "30\n",
      "\n",
      "每天被我黑的貓\n",
      "2019-12-13T07:03:13.502Z\n",
      "2\n",
      "29\n",
      "\n",
      "好想吃大福\n",
      "2019-12-13T14:19:00.776Z\n",
      "3\n",
      "28\n",
      "\n",
      "#急 #嘉義 疑似走失的柯基\n",
      "2019-12-13T03:39:35.139Z\n",
      "6\n",
      "27\n",
      "\n",
      "#貓 無法抵盪的肉球/肉掌照們\n",
      "2019-12-13T04:29:05.341Z\n",
      "12\n",
      "23\n",
      "\n",
      "當貓咪的生活\n",
      "2019-12-14T06:21:33.399Z\n",
      "2\n",
      "22\n",
      "\n",
      "兩個月半柴寶貝🐶\n",
      "2019-12-13T08:23:30.520Z\n",
      "3\n",
      "22\n",
      "\n",
      "愛貓貓來哦\n",
      "2019-12-14T02:52:13.001Z\n",
      "0\n",
      "21\n",
      "\n",
      "我的小刺蝟\n",
      "2019-12-14T09:09:20.390Z\n",
      "0\n",
      "17\n",
      "\n",
      "養狗前請要做功課\n",
      "2019-12-13T20:02:37.147Z\n",
      "6\n",
      "12\n",
      "\n",
      "我們家的貓咪睡姿（圖多\n",
      "2019-12-14T13:04:29.280Z\n",
      "0\n",
      "11\n",
      "\n",
      "老鼠給你們養真可憐\n",
      "2019-12-14T07:11:15.809Z\n",
      "20\n",
      "11\n",
      "\n",
      "怎麼教小貓收抓子\n",
      "2019-12-13T04:01:49.974Z\n",
      "4\n",
      "11\n",
      "\n",
      "刺蝟日常\n",
      "2019-12-13T06:39:08.299Z\n",
      "0\n",
      "10\n",
      "\n",
      "又來曬貓了！\n",
      "2019-12-13T14:18:03.885Z\n",
      "4\n",
      "9\n",
      "\n",
      "厭世貓咪\n",
      "2019-12-14T12:31:45.490Z\n",
      "1\n",
      "8\n",
      "\n",
      "一次要摸三隻不然很吵\n",
      "2019-12-14T11:05:46.136Z\n",
      "0\n",
      "8\n",
      "\n",
      "悲劇！家貓被剪耳剃毛挨告不起訴\n",
      "2019-12-13T21:32:18.181Z\n",
      "6\n",
      "8\n",
      "\n",
      "原來我養的是猴子呀😳\n",
      "2019-12-14T06:16:19.442Z\n",
      "2\n",
      "7\n",
      "\n",
      "高難度瑜伽🧘‍♀️\n",
      "2019-12-13T17:57:42.041Z\n",
      "0\n",
      "7\n",
      "\n"
     ]
    }
   ],
   "source": [
    "# 2. 取出每一筆資料的「標題」、「貼文時間」、「留言人數」、「按讚人數」\n",
    "for d in data:\n",
    "    print(d['title'])\n",
    "    print(d['createdAt'])\n",
    "    print(d['commentCount'])\n",
    "    print(d['likeCount'])\n",
    "    print('')\n"
   ]
  },
  {
   "cell_type": "code",
   "execution_count": 34,
   "metadata": {},
   "outputs": [
    {
     "name": "stdout",
     "output_type": "stream",
     "text": [
      "6.033333333333333\n",
      "97.46666666666667\n"
     ]
    }
   ],
   "source": [
    "# 3. 計算熱門/非熱門文章的「平均留言人數」與「平均按讚人數」\n",
    "commentCount_sum=0\n",
    "likeCount_sum=0\n",
    "\n",
    "for d in data:\n",
    "    commentCount_sum+=d['commentCount']\n",
    "    likeCount_sum+=d['likeCount']\n",
    "    \n",
    "print(commentCount_sum/len(data))\n",
    "\n",
    "print(likeCount_sum/len(data))"
   ]
  },
  {
   "cell_type": "code",
   "execution_count": 39,
   "metadata": {},
   "outputs": [
    {
     "name": "stdout",
     "output_type": "stream",
     "text": [
      "6.033333333333333\n",
      "97.46666666666667\n"
     ]
    }
   ],
   "source": [
    "r2 = requests.get('https://www.dcard.tw/_api/forums/relationship/posts?popular=false')\n",
    "response2 = r2.text\n",
    "data2 = json.loads(response2)\n",
    "\n",
    "commentCount_sum2=0\n",
    "likeCount_sum2=0\n",
    "\n",
    "for d in data:\n",
    "    commentCount_sum2+=d['commentCount']\n",
    "    likeCount_sum2+=d['likeCount']\n",
    "    \n",
    "print(commentCount_sum2/len(data2))\n",
    "\n",
    "print(likeCount_sum2/len(data2))"
   ]
  },
  {
   "cell_type": "code",
   "execution_count": null,
   "metadata": {},
   "outputs": [],
   "source": []
  }
 ],
 "metadata": {
  "kernelspec": {
   "display_name": "Python 3",
   "language": "python",
   "name": "python3"
  },
  "language_info": {
   "codemirror_mode": {
    "name": "ipython",
    "version": 3
   },
   "file_extension": ".py",
   "mimetype": "text/x-python",
   "name": "python",
   "nbconvert_exporter": "python",
   "pygments_lexer": "ipython3",
   "version": "3.7.4"
  }
 },
 "nbformat": 4,
 "nbformat_minor": 2
}
