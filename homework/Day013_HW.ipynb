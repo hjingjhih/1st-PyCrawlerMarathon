{
 "cells": [
  {
   "cell_type": "markdown",
   "metadata": {},
   "source": [
    "# PTT 網路爬蟲實作練習\n",
    "\n",
    "\n",
    "* 能夠利用 Request + BeatifulSour 撰寫爬蟲，並存放到合適的資料結構\n"
   ]
  },
  {
   "cell_type": "markdown",
   "metadata": {},
   "source": [
    "## 作業目標\n",
    "\n",
    "根據範例 ，完成以下問題：\n",
    "\n",
    "* ① 印出最新文章的「作者」「標題」「時間」\n",
    "* ② 印出第一頁所有文章的「作者」「標題」「時間」\n"
   ]
  },
  {
   "cell_type": "markdown",
   "metadata": {},
   "source": [
    "### ① 印出最新文章的「作者」「標題」「時間」"
   ]
  },
  {
   "cell_type": "code",
   "execution_count": 30,
   "metadata": {},
   "outputs": [
    {
     "name": "stdout",
     "output_type": "stream",
     "text": [
      "[情報] LBJ：我們不需要交易\n",
      "<span class=\"article-meta-value\">UCAthena (Let's go __)</span>\n",
      "<span class=\"article-meta-value\">NBA</span>\n",
      "<span class=\"article-meta-value\">[情報] LBJ：我們不需要交易</span>\n",
      "<span class=\"article-meta-value\">Fri Jan 24 15:36:01 2020</span>\n",
      "作者: UCAthena (Let's go __)\n",
      "[情報] JB球員投票只排第六？老巴：球員不喜歡他\n",
      "<span class=\"article-meta-value\">Yui5 (唯控)</span>\n",
      "<span class=\"article-meta-value\">NBA</span>\n",
      "<span class=\"article-meta-value\">[情報] JB球員投票只排第六？老巴：球員不喜歡他</span>\n",
      "<span class=\"article-meta-value\">Fri Jan 24 16:27:19 2020</span>\n",
      "作者: Yui5 (唯控)\n",
      "[討論] 為什麼KI評價惡化這麼快？\n",
      "<span class=\"article-meta-value\">orthogonal (謙哥)</span>\n",
      "<span class=\"article-meta-value\">NBA</span>\n",
      "<span class=\"article-meta-value\">[討論] 為什麼KI評價惡化這麼快？</span>\n",
      "<span class=\"article-meta-value\">Fri Jan 24 16:57:00 2020</span>\n",
      "作者: orthogonal (謙哥)\n",
      "[討論] Bradley Beal為啥沒有球迷緣?\n",
      "<span class=\"article-meta-value\">Ayanami5566 (綾波五六)</span>\n",
      "<span class=\"article-meta-value\">NBA</span>\n",
      "<span class=\"article-meta-value\">[討論] Bradley Beal為啥沒有球迷緣?</span>\n",
      "<span class=\"article-meta-value\">Fri Jan 24 17:13:59 2020</span>\n",
      "作者: Ayanami5566 (綾波五六)\n",
      "[花邊] Williamson初登場受矚目 轉播收視率開紅盤\n",
      "<span class=\"article-meta-value\">thnlkj0665 (灰色地帶)</span>\n",
      "<span class=\"article-meta-value\">NBA</span>\n",
      "<span class=\"article-meta-value\">[花邊] Williamson初登場受矚目 轉播收視率開紅盤</span>\n",
      "<span class=\"article-meta-value\">Fri Jan 24 18:20:19 2020</span>\n",
      "作者: thnlkj0665 (灰色地帶)\n",
      "[花邊] 能打現在的NBA嗎？米勒：現在都是投三分\n",
      "<span class=\"article-meta-value\">la1aco (lalaco)</span>\n",
      "<span class=\"article-meta-value\">NBA</span>\n",
      "<span class=\"article-meta-value\">[花邊] 能打現在的NBA嗎？米勒：現在都是投三分</span>\n",
      "<span class=\"article-meta-value\">Fri Jan 24 19:10:17 2020</span>\n",
      "作者: la1aco (lalaco)\n",
      "(本文已被刪除) [fukawa947]\n",
      "[情報] 快艇對Thaddeus Young跟Kris Dunn有興趣\n",
      "<span class=\"article-meta-value\">SeungYeon (我愛勝妍)</span>\n",
      "<span class=\"article-meta-value\">NBA</span>\n",
      "<span class=\"article-meta-value\">[情報] 快艇對Thaddeus Young跟Kris Dunn有興趣</span>\n",
      "<span class=\"article-meta-value\">Fri Jan 24 21:46:12 2020</span>\n",
      "作者: SeungYeon (我愛勝妍)\n",
      "[情報] Stephen Curry 最佳五人名單\n",
      "<span class=\"article-meta-value\">thnlkj0665 (灰色地帶)</span>\n",
      "<span class=\"article-meta-value\">NBA</span>\n",
      "<span class=\"article-meta-value\">[情報] Stephen Curry 最佳五人名單</span>\n",
      "<span class=\"article-meta-value\">Fri Jan 24 22:02:51 2020</span>\n",
      "作者: thnlkj0665 (灰色地帶)\n",
      "[花邊] AD談LBJ全明星選人：不確定他是否會選我\n",
      "<span class=\"article-meta-value\">Yui5 (唯控)</span>\n",
      "<span class=\"article-meta-value\">NBA</span>\n",
      "<span class=\"article-meta-value\">[花邊] AD談LBJ全明星選人：不確定他是否會選我</span>\n",
      "<span class=\"article-meta-value\">Fri Jan 24 22:09:19 2020</span>\n",
      "作者: Yui5 (唯控)\n",
      "[公告] 水桶 + 發錢\n",
      "<span class=\"article-meta-value\">Vedan (味丹)</span>\n",
      "<span class=\"article-meta-value\">NBA</span>\n",
      "<span class=\"article-meta-value\">[公告] 水桶 + 發錢</span>\n",
      "<span class=\"article-meta-value\">Fri Jan 24 22:19:28 2020</span>\n",
      "作者: Vedan (味丹)\n",
      "Fw: [協尋]求1/24早上8:35福林橋行車紀錄器畫面\n",
      "<span class=\"article-meta-value\">hochirijay (seafood帶我闖天關)</span>\n",
      "<span class=\"article-meta-value\">NBA</span>\n",
      "<span class=\"article-meta-value\">Fw: [協尋]求1/24早上8:35福林橋行車紀錄器畫面</span>\n",
      "<span class=\"article-meta-value\">Fri Jan 24 22:23:16 2020</span>\n",
      "作者: hochirijay (seafood帶我闖天關)\n",
      "[情報] Love:如果交易日後我還在騎士，我會很開\n",
      "<span class=\"article-meta-value\">la1aco (lalaco)</span>\n",
      "<span class=\"article-meta-value\">NBA</span>\n",
      "<span class=\"article-meta-value\">[情報] Love:如果交易日後我還在騎士，我會很開</span>\n",
      "<span class=\"article-meta-value\">Fri Jan 24 22:23:37 2020</span>\n",
      "作者: la1aco (lalaco)\n",
      "[公告] 板規v6.8\n",
      "[公告] 樂透取消及未來不再開啟樂透\n",
      "<span class=\"article-meta-value\">Vedan (味丹)</span>\n",
      "<span class=\"article-meta-value\">NBA</span>\n",
      "<span class=\"article-meta-value\">[公告] 樂透取消及未來不再開啟樂透</span>\n",
      "<span class=\"article-meta-value\">Mon Jun 24 15:08:02 2019</span>\n",
      "作者: Vedan (味丹)\n",
      "[公告] 版主上任相關事項 \n",
      "<span class=\"article-meta-value\">qazwsx879345 (Rajon Rondo)</span>\n",
      "<span class=\"article-meta-value\">NBA</span>\n",
      "<span class=\"article-meta-value\">[公告] 版主上任相關事項</span>\n",
      "<span class=\"article-meta-value\">Fri Oct 25 10:44:03 2019</span>\n",
      "作者: qazwsx879345 (Rajon Rondo)\n",
      "[情報] SEASON Schedule 賽程 January 19–20\n",
      "<span class=\"article-meta-value\">Acetoxy (阿斯)</span>\n",
      "<span class=\"article-meta-value\">NBA</span>\n",
      "<span class=\"article-meta-value\">[情報] SEASON Schedule 賽程 January 19–20</span>\n",
      "<span class=\"article-meta-value\">Fri Jan  3 01:37:35 2020</span>\n",
      "作者: Acetoxy (阿斯)\n"
     ]
    }
   ],
   "source": [
    "import requests\n",
    "from bs4 import BeautifulSoup\n",
    "\n",
    "url = 'https://www.ptt.cc/bbs/NBA/index.html'\n",
    "r = requests.get(url)\n",
    "\n",
    "soup = BeautifulSoup(r.text, \"html5lib\")\n",
    "\n",
    "for d in soup.find_all(class_=\"title\"):\n",
    "    print(d.text.replace('\\t', '').replace('\\n', ''))\n",
    "    try:\n",
    "        r = BeautifulSoup(requests.get('https://www.ptt.cc'+d.find('a')['href']).text, \"html5lib\")\n",
    "        for d in r.find_all(class_='article-meta-value'):\n",
    "            \n",
    "            print(d)\n",
    "        print('作者: ' + r.find(class_='article-meta-value').text)\n",
    "        print('時間: ' + r.find[2](class_='article-meta-value').text)\n",
    "    except:\n",
    "        continue\n"
   ]
  },
  {
   "cell_type": "markdown",
   "metadata": {},
   "source": [
    "### ② 印出第一頁所有文章的「作者」「標題」「時間」"
   ]
  },
  {
   "cell_type": "code",
   "execution_count": null,
   "metadata": {},
   "outputs": [],
   "source": [
    "'''\n",
    "Your Code\n",
    "'''"
   ]
  },
  {
   "cell_type": "markdown",
   "metadata": {},
   "source": [
    "### ③ 試著爬爬看其他版的文章"
   ]
  },
  {
   "cell_type": "code",
   "execution_count": null,
   "metadata": {},
   "outputs": [],
   "source": [
    "'''\n",
    "Your Code\n",
    "'''"
   ]
  }
 ],
 "metadata": {
  "kernelspec": {
   "display_name": "Python 3",
   "language": "python",
   "name": "python3"
  },
  "language_info": {
   "codemirror_mode": {
    "name": "ipython",
    "version": 3
   },
   "file_extension": ".py",
   "mimetype": "text/x-python",
   "name": "python",
   "nbconvert_exporter": "python",
   "pygments_lexer": "ipython3",
   "version": "3.7.4"
  }
 },
 "nbformat": 4,
 "nbformat_minor": 2
}
