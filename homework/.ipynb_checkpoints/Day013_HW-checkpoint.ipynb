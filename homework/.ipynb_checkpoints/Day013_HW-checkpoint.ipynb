{
 "cells": [
  {
   "cell_type": "markdown",
   "metadata": {},
   "source": [
    "# PTT 網路爬蟲實作練習\n",
    "\n",
    "\n",
    "* 能夠利用 Request + BeatifulSour 撰寫爬蟲，並存放到合適的資料結構\n"
   ]
  },
  {
   "cell_type": "markdown",
   "metadata": {},
   "source": [
    "## 作業目標\n",
    "\n",
    "根據範例 ，完成以下問題：\n",
    "\n",
    "* ① 印出最新文章的「作者」「標題」「時間」\n",
    "* ② 印出第一頁所有文章的「作者」「標題」「時間」\n"
   ]
  },
  {
   "cell_type": "markdown",
   "metadata": {},
   "source": [
    "### ① 印出最新文章的「作者」「標題」「時間」"
   ]
  },
  {
   "cell_type": "code",
   "execution_count": 22,
   "metadata": {},
   "outputs": [
    {
     "name": "stdout",
     "output_type": "stream",
     "text": [
      "[情報] LBJ：我們不需要交易\n",
      ")__ og s'teL( anehtACU\n",
      "ABN\n",
      "易交要需不們我：JBL ]報情[\n",
      "0202 10:63:51 42 naJ irF\n",
      "[情報] JB球員投票只排第六？老巴：球員不喜歡他\n",
      ")控唯( 5iuY\n",
      "ABN\n",
      "他歡喜不員球：巴老？六第排只票投員球BJ ]報情[\n",
      "0202 91:72:61 42 naJ irF\n",
      "[討論] 為什麼KI評價惡化這麼快？\n",
      ")哥謙( lanogohtro\n",
      "ABN\n",
      "？快麼這化惡價評IK麼什為 ]論討[\n",
      "0202 00:75:61 42 naJ irF\n",
      "[討論] Bradley Beal為啥沒有球迷緣?\n",
      ")六五波綾( 6655imanayA\n",
      "ABN\n",
      "?緣迷球有沒啥為laeB yeldarB ]論討[\n",
      "0202 95:31:71 42 naJ irF\n",
      "[花邊] Williamson初登場受矚目 轉播收視率開紅盤\n",
      ")帶地色灰( 5660jklnht\n",
      "ABN\n",
      "盤紅開率視收播轉 目矚受場登初nosmailliW ]邊花[\n",
      "0202 91:02:81 42 naJ irF\n",
      "[花邊] 能打現在的NBA嗎？米勒：現在都是投三分\n",
      ")ocalal( oca1al\n",
      "ABN\n",
      "分三投是都在現：勒米？嗎ABN的在現打能 ]邊花[\n",
      "0202 71:01:91 42 naJ irF\n",
      "[公告] 板規v6.8\n",
      "[公告] 樂透取消及未來不再開啟樂透\n",
      ")丹味( nadeV\n",
      "ABN\n",
      "透樂啟開再不來未及消取透樂 ]告公[\n",
      "9102 20:80:51 42 nuJ noM\n",
      "[公告] 版主上任相關事項 \n",
      ")odnoR nojaR( 543978xswzaq\n",
      "ABN\n",
      "項事關相任上主版 ]告公[\n",
      "9102 30:44:01 52 tcO irF\n",
      "[情報] SEASON Schedule 賽程 January 19–20\n",
      ")斯阿( yxotecA\n",
      "ABN\n",
      "02–91 yraunaJ 程賽 eludehcS NOSAES ]報情[\n",
      "0202 53:73:10 3  naJ irF\n"
     ]
    }
   ],
   "source": [
    "import requests\n",
    "from bs4 import BeautifulSoup\n",
    "\n",
    "url = 'https://www.ptt.cc/bbs/NBA/index.html'\n",
    "r = requests.get(url)\n",
    "\n",
    "soup = BeautifulSoup(r.text, \"html5lib\")\n",
    "\n",
    "for d in soup.find_all(class_=\"title\"):\n",
    "    print(d.text.replace('\\t', '').replace('\\n', ''))\n",
    "    try:\n",
    "        r = BeautifulSoup(requests.get('https://www.ptt.cc'+d.find('a')['href']).text, \"html5lib\")\n",
    "        for d in r.find_all(class_='article-meta-value'):\n",
    "            print(d.text)\n",
    "        \n",
    "    except:\n",
    "        continue\n"
   ]
  },
  {
   "cell_type": "markdown",
   "metadata": {},
   "source": [
    "### ② 印出第一頁所有文章的「作者」「標題」「時間」"
   ]
  },
  {
   "cell_type": "code",
   "execution_count": null,
   "metadata": {},
   "outputs": [],
   "source": [
    "'''\n",
    "Your Code\n",
    "'''"
   ]
  },
  {
   "cell_type": "markdown",
   "metadata": {},
   "source": [
    "### ③ 試著爬爬看其他版的文章"
   ]
  },
  {
   "cell_type": "code",
   "execution_count": null,
   "metadata": {},
   "outputs": [],
   "source": [
    "'''\n",
    "Your Code\n",
    "'''"
   ]
  }
 ],
 "metadata": {
  "kernelspec": {
   "display_name": "Python 3",
   "language": "python",
   "name": "python3"
  },
  "language_info": {
   "codemirror_mode": {
    "name": "ipython",
    "version": 3
   },
   "file_extension": ".py",
   "mimetype": "text/x-python",
   "name": "python",
   "nbconvert_exporter": "python",
   "pygments_lexer": "ipython3",
   "version": "3.7.4"
  }
 },
 "nbformat": 4,
 "nbformat_minor": 2
}
